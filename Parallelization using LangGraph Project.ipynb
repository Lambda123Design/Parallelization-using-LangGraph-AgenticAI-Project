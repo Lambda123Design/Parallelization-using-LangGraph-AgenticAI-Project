{
 "cells": [
  {
   "cell_type": "markdown",
   "metadata": {},
   "source": [
    "#### Parallelization using LangGraph Project"
   ]
  },
  {
   "cell_type": "code",
   "execution_count": null,
   "metadata": {},
   "outputs": [
    {
     "data": {
      "text/plain": [
       "AIMessage(content='Hello! How can I assist you today?', additional_kwargs={}, response_metadata={'token_usage': {'completion_tokens': 10, 'prompt_tokens': 30, 'total_tokens': 40, 'completion_time': 0.05, 'prompt_time': 0.003740605, 'queue_time': 0.052895384, 'total_time': 0.053740605}, 'model_name': 'qwen-2.5-32b', 'system_fingerprint': 'fp_92412bc7e4', 'finish_reason': 'stop', 'logprobs': None}, id='run-efd39b04-a9fd-4143-824b-a9a453db99eb-0', usage_metadata={'input_tokens': 30, 'output_tokens': 10, 'total_tokens': 40})"
      ]
     },
     "execution_count": 1,
     "metadata": {},
     "output_type": "execute_result"
    }
   ],
   "source": [
    "import os\n",
    "from dotenv import load_dotenv\n",
    "load_dotenv()\n",
    "\n",
    "from langchain_groq import ChatGroq\n",
    "\n",
    "\n",
    "#os.environ[\"OPENAI_API_KEY\"]=os.getenv(\"OPENAI_API_KEY\")\n",
    "os.environ[\"GROQ_API_KEY\"]=os.getenv(\"GROQ_API_KEY\")\n",
    "\n",
    "\n",
    "llm=ChatGroq(model=\"qwen-qwq-32b\")\n",
    "#llm = ChatOpenAI(model=\"gpt-4o\")\n",
    "result=llm.invoke(\"Hello\")\n",
    "result"
   ]
  },
  {
   "cell_type": "code",
   "execution_count": 2,
   "metadata": {},
   "outputs": [],
   "source": [
    "from typing_extensions import TypedDict\n",
    "from langgraph.graph import StateGraph, START, END\n",
    "from IPython.display import Image, display\n",
    "\n",
    "# Graph state\n",
    "class State(TypedDict):\n",
    "    topic: str\n",
    "    characters: str\n",
    "    settings: str\n",
    "    premises: str\n",
    "    story_intro: str"
   ]
  },
  {
   "cell_type": "code",
   "execution_count": 3,
   "metadata": {},
   "outputs": [],
   "source": [
    "# Nodes\n",
    "def generate_characters(state: State):\n",
    "    \"\"\"Generate character descriptions\"\"\"\n",
    "    msg = llm.invoke(f\"Create two character names and brief traits for a story about {state['topic']}\")\n",
    "    return {\"characters\": msg.content}\n",
    "\n",
    "def generate_setting(state: State):\n",
    "    \"\"\"Generate a story setting\"\"\"\n",
    "    msg = llm.invoke(f\"Describe a vivid setting for a story about {state['topic']}\")\n",
    "    return {\"settings\": msg.content}\n",
    "\n",
    "def generate_premise(state: State):\n",
    "    \"\"\"Generate a story premise\"\"\"\n",
    "    msg = llm.invoke(f\"Write a one-sentence plot premise for a story about {state['topic']}\")\n",
    "    return {\"premises\": msg.content}\n",
    "\n",
    "def combine_elements(state: State):\n",
    "    \"\"\"Combine characters, setting, and premise into an intro\"\"\"\n",
    "    msg = llm.invoke(\n",
    "        f\"Write a short story introduction using these elements:\\n\"\n",
    "        f\"Characters: {state['characters']}\\n\"\n",
    "        f\"Setting: {state['settings']}\\n\"\n",
    "        f\"Premise: {state['premises']}\"\n",
    "    )\n",
    "    return {\"story_intro\": msg.content}"
   ]
  },
  {
   "cell_type": "code",
   "execution_count": 4,
   "metadata": {},
   "outputs": [
    {
     "data": {
      "text/plain": [
       "<langgraph.graph.state.StateGraph at 0x12cfc7f47d0>"
      ]
     },
     "execution_count": 4,
     "metadata": {},
     "output_type": "execute_result"
    }
   ],
   "source": [
    "# Build the graph\n",
    "graph = StateGraph(State)\n",
    "graph.add_node(\"character\", generate_characters)\n",
    "graph.add_node(\"setting\", generate_setting)\n",
    "graph.add_node(\"premise\", generate_premise)\n",
    "graph.add_node(\"combine\", combine_elements)"
   ]
  },
  {
   "cell_type": "code",
   "execution_count": 5,
   "metadata": {},
   "outputs": [
    {
     "data": {
      "image/png": "[encoded data removed]",
      "text/plain": [
       "<IPython.core.display.Image object>"
      ]
     },
     "metadata": {},
     "output_type": "display_data"
    }
   ],
   "source": [
    "# Define edges (parallel execution from START)\n",
    "graph.add_edge(START, \"character\")\n",
    "graph.add_edge(START, \"setting\")\n",
    "graph.add_edge(START, \"premise\")\n",
    "graph.add_edge(\"character\", \"combine\")\n",
    "graph.add_edge(\"setting\", \"combine\")\n",
    "graph.add_edge(\"premise\", \"combine\")\n",
    "graph.add_edge(\"combine\", END)\n",
    "\n",
    "# Compile and run\n",
    "compiled_graph = graph.compile()\n",
    "graph_image = compiled_graph.get_graph().draw_mermaid_png()\n",
    "display(Image(graph_image))"
   ]
  },
  {
   "cell_type": "code",
   "execution_count": 6,
   "metadata": {},
   "outputs": [
    {
     "name": "stdout",
     "output_type": "stream",
     "text": [
      "In the heart of a bustling, neon-lit metropolis, where the pulse of the future beats in synchrony with the rhythm of an ancient alleyway known as Time’s Passage, stands a curious library. This library, a labyrinth of time and knowledge, is the sanctuary of Evelyn \"Eve\" Turner, a historian with an encyclopedic mind and a heart brimming with curiosity for the past. Her companion is Jasper \"Jax\" Hawkins, an engineer of unparallelled skill and an adventurer at heart, who specializes in the mechanics of time travel devices. Together, they are about to embark on an adventure that will rewrite the very fabric of their reality.\n",
      "\n",
      "The library, a quaint relic from the past, is a place where each book is a moment in history, and the air buzzes with the whispers of the past. At its center, under the watchful gaze of a rusted, weather-beaten clocktower, lies a peculiar device—a machine of brass and glass that can bend the fabric of reality. This is the Time Travel Device, the result of a bet between Jax and a quantum physicist, now their key to exploring the corridors of time.\n",
      "\n",
      "One evening, as the sun sets, casting long shadows through the high, arched windows, Eve and Jax stand before the device. With a mix of excitement and trepidation, they activate the machine, aiming to witness a pivotal historical event firsthand. But as they materialize in the past, a series of unforeseen actions leads them to inadvertently alter the course of that event. The outcome is immediate and shocking; the future that greets them upon their return is not the one they left behind.\n",
      "\n",
      "In this new, altered reality, the duo must navigate the changes they've wrought, unravel the mystery of their unintended consequences, and find a way to restore the timeline they know. Their journey will take them across eras and across the world, testing not only their wits and skills but also their bond as they confront the weight of their actions and the vast, unpredictable power of time itself.\n"
     ]
    }
   ],
   "source": [
    "state = {\"topic\": \"time travel\"}\n",
    "result = compiled_graph.invoke(state)\n",
    "print(result[\"story_intro\"])"
   ]
  }
 ],
 "metadata": {
  "kernelspec": {
   "display_name": "Python 3",
   "language": "python",
   "name": "python3"
  },
  "language_info": {
   "codemirror_mode": {
    "name": "ipython",
    "version": 3
   },
   "file_extension": ".py",
   "mimetype": "text/x-python",
   "name": "python",
   "nbconvert_exporter": "python",
   "pygments_lexer": "ipython3",
   "version": "3.12.0"
  }
 },
 "nbformat": 4,
 "nbformat_minor": 2
}
